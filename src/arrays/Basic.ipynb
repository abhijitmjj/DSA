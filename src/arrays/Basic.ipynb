{
 "cells": [
  {
   "cell_type": "code",
   "execution_count": 1,
   "metadata": {},
   "outputs": [],
   "source": [
    "from typing import Generator"
   ]
  },
  {
   "cell_type": "markdown",
   "metadata": {},
   "source": [
    "## Given a one-dimensional array of integers, create a new array that represents the running sum of the original array.\n",
    "\n",
    "The running sum at position i in the new array is calculated as the sum of all the numbers in the original array from the 0th index up to the i-th index (inclusive).  \n",
    "Formally, the resulting array should be computed as follows: result[i] = sum(nums[0] + nums[1] + ... + nums[i]) for each i from 0 to the length of the array minus one.\n",
    "\n"
   ]
  },
  {
   "cell_type": "markdown",
   "metadata": {},
   "source": []
  },
  {
   "cell_type": "code",
   "execution_count": 3,
   "metadata": {},
   "outputs": [
    {
     "data": {
      "text/plain": [
       "[1, 3, 6, 10]"
      ]
     },
     "execution_count": 3,
     "metadata": {},
     "output_type": "execute_result"
    }
   ],
   "source": [
    "def running_sum(nums: list[int]) -> list[int]:\n",
    "    for i in range(1, len(nums)):\n",
    "        nums[i] += nums[i - 1]\n",
    "    return nums\n",
    "\n",
    "running_sum([1, 2, 3, 4])"
   ]
  },
  {
   "cell_type": "code",
   "execution_count": 4,
   "metadata": {},
   "outputs": [
    {
     "name": "stdout",
     "output_type": "stream",
     "text": [
      "[1, 3, 6, 10]\n"
     ]
    }
   ],
   "source": [
    "def running_sum2(nums: list[int]) -> Generator[int, None, None]:\n",
    "    totasum = 0\n",
    "    for elem in nums:\n",
    "        totasum += elem\n",
    "        yield totasum\n",
    "\n",
    "print(list(running_sum2([1, 2, 3, 4])))"
   ]
  },
  {
   "cell_type": "code",
   "execution_count": 5,
   "metadata": {},
   "outputs": [
    {
     "name": "stdout",
     "output_type": "stream",
     "text": [
      "[1, 3, 6, 10, 15]\n"
     ]
    }
   ],
   "source": [
    "def running_sum1(nums: list[int]) -> list[int]:\n",
    "    result: list[int] = [0]*len(nums)\n",
    "    curr_total = 0\n",
    "    for idx, elem in enumerate(nums):\n",
    "        curr_total += elem\n",
    "        result[idx] = curr_total\n",
    "    return result\n",
    "\n",
    "print(running_sum1([1,2,3,4,5]))\n"
   ]
  },
  {
   "cell_type": "markdown",
   "metadata": {},
   "source": [
    "## Problem 2: Contains Duplicate (easy)\n",
    "Problem Statement\n",
    "Given an integer array nums, return true if any value appears at least twice in the array, and return false if every element is distinct.\n",
    "\n",
    "Example 1:\n",
    "\n",
    "Input: nums= [1, 2, 3, 4]\n",
    "Output: false  \n",
    "Explanation: There are no duplicates in the given array.\n",
    "Example 2:\n",
    "\n",
    "Input: nums= [1, 2, 3, 1]\n",
    "Output: true  \n",
    "Explanation: '1' is repeating.\n",
    "Constraints:\n",
    "\n",
    "1 <= nums.length <= 10^5\n",
    "-10^9 <= nums[i] <= 10^9"
   ]
  },
  {
   "cell_type": "code",
   "execution_count": 12,
   "metadata": {},
   "outputs": [
    {
     "name": "stdout",
     "output_type": "stream",
     "text": [
      "True\n",
      "False\n",
      "False\n"
     ]
    }
   ],
   "source": [
    "def hasDuplicates(nums: list[int]) -> bool:\n",
    "    seen: set[int] = set()\n",
    "    for elem in nums:\n",
    "        if elem in seen:\n",
    "            return True\n",
    "        else:\n",
    "            seen.add(elem)\n",
    "    return False \n",
    "\n",
    "print(hasDuplicates([1,2,3,1]))   \n",
    "print(hasDuplicates([1,2,3,4]))\n",
    "print(hasDuplicates([1]))"
   ]
  },
  {
   "cell_type": "code",
   "execution_count": 1,
   "metadata": {},
   "outputs": [
    {
     "name": "stdout",
     "output_type": "stream",
     "text": [
      "490545\n"
     ]
    }
   ],
   "source": [
    "def count_ways_dp(n: int, k: int) -> int:\n",
    "    # Initialize a 2D array with zeros\n",
    "    dp = [[0] * (k + 1) for _ in range(n + 1)]\n",
    "    \n",
    "    # Base cases\n",
    "    for i in range(0, n + 1):\n",
    "        for j in range(0, min(i, k) + 1):\n",
    "            if j == i or j == 0:\n",
    "                dp[i][j] = 1  \n",
    "    \n",
    "    # Fill the dp array\n",
    "    for i in range(1, n + 1):\n",
    "        for j in range(1, min(i, k) + 1):\n",
    "            dp[i][j] = dp[i - 1][j-1] + dp[i-1][j]\n",
    "    \n",
    "    return dp[n][k]\n",
    "\n",
    "# Example usage\n",
    "print(count_ways_dp(991, 2))"
   ]
  },
  {
   "cell_type": "code",
   "execution_count": 6,
   "metadata": {},
   "outputs": [],
   "source": [
    "from functools import lru_cache\n",
    "\n",
    "@lru_cache(maxsize=None)\n",
    "def count_ways(n: int, k: int) -> int:\n",
    "    \"\"\"\n",
    "    Calculate the number of ways to choose k items from n items.\n",
    "\n",
    "    Args:\n",
    "    n (int): Total number of items.\n",
    "    k (int): Number of items to choose.\n",
    "\n",
    "    Returns:\n",
    "    int: Number of ways to choose k items from n items.\n",
    "    \"\"\"\n",
    "    if n < 0 or k < 0:\n",
    "        raise ValueError(\"n and k must be non-negative integers\")\n",
    "    if k > n:\n",
    "        return 0\n",
    "    if k == 0 or k == n:\n",
    "        return 1\n",
    "    return count_ways(n-1, k-1) + count_ways(n-1, k)"
   ]
  },
  {
   "cell_type": "code",
   "execution_count": 8,
   "metadata": {},
   "outputs": [
    {
     "data": {
      "text/plain": [
       "1234"
      ]
     },
     "execution_count": 8,
     "metadata": {},
     "output_type": "execute_result"
    }
   ],
   "source": [
    "1234562 // 10**(7//2)"
   ]
  },
  {
   "cell_type": "markdown",
   "metadata": {},
   "source": [
    "## Problem 3: Merge two sorted arrays (easy)"
   ]
  },
  {
   "cell_type": "code",
   "execution_count": 9,
   "metadata": {},
   "outputs": [],
   "source": [
    "def merge(L: list[int], R: list[int]) -> list[int]:\n",
    "\n",
    "    l = 0\n",
    "    r = 0\n",
    "    res: list[int] = []\n",
    "    while l < len(L) and r < len(R):\n",
    "        if L[l] < R[r]:\n",
    "            res.append(L[l])\n",
    "            l += 1\n",
    "        else:\n",
    "            res.append(R[r])\n",
    "            r += 1\n",
    "    while l < len(L):\n",
    "        res.append(L[l])\n",
    "        l += 1\n",
    "    while r < len(R):\n",
    "        res.append(R[r])\n",
    "        r += 1\n",
    "    return res\n",
    "\n",
    "\n"
   ]
  },
  {
   "cell_type": "code",
   "execution_count": 16,
   "metadata": {},
   "outputs": [
    {
     "data": {
      "text/plain": [
       "[0]"
      ]
     },
     "execution_count": 16,
     "metadata": {},
     "output_type": "execute_result"
    }
   ],
   "source": [
    "merge(L=[], R=[0])"
   ]
  },
  {
   "cell_type": "code",
   "execution_count": null,
   "metadata": {},
   "outputs": [],
   "source": []
  }
 ],
 "metadata": {
  "kernelspec": {
   "display_name": "dsa-hEQw758l-py3.12",
   "language": "python",
   "name": "python3"
  },
  "language_info": {
   "codemirror_mode": {
    "name": "ipython",
    "version": 3
   },
   "file_extension": ".py",
   "mimetype": "text/x-python",
   "name": "python",
   "nbconvert_exporter": "python",
   "pygments_lexer": "ipython3",
   "version": "3.12.5"
  }
 },
 "nbformat": 4,
 "nbformat_minor": 2
}
