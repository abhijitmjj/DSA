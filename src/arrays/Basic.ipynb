{
 "cells": [
  {
   "cell_type": "code",
   "execution_count": 5,
   "metadata": {},
   "outputs": [],
   "source": [
    "from typing import Generator"
   ]
  },
  {
   "cell_type": "markdown",
   "metadata": {},
   "source": [
    "## Given a one-dimensional array of integers, create a new array that represents the running sum of the original array.\n",
    "\n",
    "The running sum at position i in the new array is calculated as the sum of all the numbers in the original array from the 0th index up to the i-th index (inclusive).  \n",
    "Formally, the resulting array should be computed as follows: result[i] = sum(nums[0] + nums[1] + ... + nums[i]) for each i from 0 to the length of the array minus one.\n",
    "\n"
   ]
  },
  {
   "cell_type": "markdown",
   "metadata": {},
   "source": []
  },
  {
   "cell_type": "code",
   "execution_count": 1,
   "metadata": {},
   "outputs": [
    {
     "data": {
      "text/plain": [
       "[1, 3, 6, 10]"
      ]
     },
     "execution_count": 1,
     "metadata": {},
     "output_type": "execute_result"
    }
   ],
   "source": [
    "def running_sum(nums: list[int]) -> list[int]:\n",
    "    for i in range(1, len(nums)):\n",
    "        nums[i] += nums[i - 1]\n",
    "    return nums\n",
    "\n",
    "running_sum([1, 2, 3, 4])"
   ]
  },
  {
   "cell_type": "code",
   "execution_count": 7,
   "metadata": {},
   "outputs": [
    {
     "name": "stdout",
     "output_type": "stream",
     "text": [
      "[1, 3, 6, 10]\n"
     ]
    }
   ],
   "source": [
    "def running_sum2(nums: list[int]) -> Generator[int, None, None]:\n",
    "    totasum = 0\n",
    "    for elem in nums:\n",
    "        totasum += elem\n",
    "        yield totasum\n",
    "\n",
    "print(list(running_sum2([1, 2, 3, 4])))"
   ]
  },
  {
   "cell_type": "code",
   "execution_count": 8,
   "metadata": {},
   "outputs": [
    {
     "name": "stdout",
     "output_type": "stream",
     "text": [
      "[1, 3, 6, 10, 15]\n"
     ]
    }
   ],
   "source": [
    "def running_sum1(nums: list[int]) -> list[int]:\n",
    "    result: list[int] = [0]*len(nums)\n",
    "    curr_total = 0\n",
    "    for idx, elem in enumerate(nums):\n",
    "        curr_total += elem\n",
    "        result[idx] = curr_total\n",
    "    return result\n",
    "\n",
    "print(running_sum1([1,2,3,4,5]))\n"
   ]
  },
  {
   "cell_type": "markdown",
   "metadata": {},
   "source": [
    "## Problem 2: Contains Duplicate (easy)\n",
    "Problem Statement\n",
    "Given an integer array nums, return true if any value appears at least twice in the array, and return false if every element is distinct.\n",
    "\n",
    "Example 1:\n",
    "\n",
    "Input: nums= [1, 2, 3, 4]\n",
    "Output: false  \n",
    "Explanation: There are no duplicates in the given array.\n",
    "Example 2:\n",
    "\n",
    "Input: nums= [1, 2, 3, 1]\n",
    "Output: true  \n",
    "Explanation: '1' is repeating.\n",
    "Constraints:\n",
    "\n",
    "1 <= nums.length <= 10^5\n",
    "-10^9 <= nums[i] <= 10^9"
   ]
  },
  {
   "cell_type": "code",
   "execution_count": 12,
   "metadata": {},
   "outputs": [
    {
     "name": "stdout",
     "output_type": "stream",
     "text": [
      "True\n",
      "False\n",
      "False\n"
     ]
    }
   ],
   "source": [
    "def hasDuplicates(nums: list[int]) -> bool:\n",
    "    seen: set[int] = set()\n",
    "    for elem in nums:\n",
    "        if elem in seen:\n",
    "            return True\n",
    "        else:\n",
    "            seen.add(elem)\n",
    "    return False \n",
    "\n",
    "print(hasDuplicates([1,2,3,1]))   \n",
    "print(hasDuplicates([1,2,3,4]))\n",
    "print(hasDuplicates([1]))"
   ]
  },
  {
   "cell_type": "code",
   "execution_count": null,
   "metadata": {},
   "outputs": [],
   "source": []
  }
 ],
 "metadata": {
  "kernelspec": {
   "display_name": "dsa-hEQw758l-py3.12",
   "language": "python",
   "name": "python3"
  },
  "language_info": {
   "codemirror_mode": {
    "name": "ipython",
    "version": 3
   },
   "file_extension": ".py",
   "mimetype": "text/x-python",
   "name": "python",
   "nbconvert_exporter": "python",
   "pygments_lexer": "ipython3",
   "version": "3.12.3"
  }
 },
 "nbformat": 4,
 "nbformat_minor": 2
}
