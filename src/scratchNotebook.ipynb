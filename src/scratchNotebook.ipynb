{
 "cells": [
  {
   "cell_type": "code",
   "execution_count": 1,
   "metadata": {},
   "outputs": [],
   "source": [
    "from collections import defaultdict\n",
    "from dataclasses import dataclass"
   ]
  },
  {
   "cell_type": "code",
   "execution_count": 21,
   "metadata": {},
   "outputs": [],
   "source": [
    "@dataclass(frozen=True)\n",
    "class Node:\n",
    "    name: str\n",
    "\n",
    "    def __str__(self) -> str:\n",
    "        return self.name"
   ]
  },
  {
   "cell_type": "code",
   "execution_count": 146,
   "metadata": {},
   "outputs": [],
   "source": [
    "@dataclass\n",
    "class Graph:\n",
    "    vertices: set[Node]\n",
    "    edges: dict[Node, list[Node]]\n",
    "\n",
    "    def __init__(self):\n",
    "        self.vertices = set()\n",
    "        self.edges = defaultdict(list)\n",
    "\n",
    "    def add_vertex(self, v: Node):\n",
    "        if v not in self.vertices:\n",
    "            self.vertices.add(v)\n",
    "            self.edges[v] = []\n",
    "    \n",
    "    def get_neighbours(self, v: Node):\n",
    "        return self.edges[v] if v in self.edges else []\n",
    "\n",
    "    def add_edge(self, u: Node, v: Node):\n",
    "        if u not in self.vertices:\n",
    "            self.add_vertex(u)\n",
    "        if v not in self.vertices:\n",
    "            self.add_vertex(v)\n",
    "        self.edges[u].append(v)\n",
    "        # self.edges[v].append(u)\n",
    "\n",
    "    def __str__(self):\n",
    "        return \"\\n\".join([f\"{v} -> {[str(x) for x in self.edges[v]]}\" for v in self.vertices])"
   ]
  },
  {
   "cell_type": "code",
   "execution_count": 147,
   "metadata": {},
   "outputs": [],
   "source": [
    "g = Graph()"
   ]
  },
  {
   "cell_type": "code",
   "execution_count": 148,
   "metadata": {},
   "outputs": [],
   "source": [
    "g.add_vertex(Node(\"A\"))\n",
    "g.add_edge(Node(\"A\"), Node(\"B\"))\n",
    "g.add_edge(Node(\"A\"), Node(\"C\"))\n",
    "g.add_edge(Node(\"B\"), Node(\"D\"))\n",
    "g.add_edge(Node(\"C\"), Node(\"F\"))\n",
    "g.add_edge(Node(\"B\"), Node(\"E\"))\n",
    "g.add_edge(Node(\"E\"), Node(\"F\"))"
   ]
  },
  {
   "cell_type": "code",
   "execution_count": 149,
   "metadata": {},
   "outputs": [
    {
     "name": "stdout",
     "output_type": "stream",
     "text": [
      "A -> ['B', 'C']\n",
      "C -> ['F']\n",
      "B -> ['D', 'E']\n",
      "D -> []\n",
      "F -> []\n",
      "E -> ['F']\n"
     ]
    }
   ],
   "source": [
    "print(g)"
   ]
  },
  {
   "cell_type": "code",
   "execution_count": 212,
   "metadata": {},
   "outputs": [],
   "source": [
    "from collections import deque\n",
    "queue: deque[Node] = deque()\n",
    "\n",
    "\n",
    "def bfs(g: Graph, start: Node):\n",
    "    visited: set[Node] = set()\n",
    "    queue.append(start)\n",
    "    visited.add(start)\n",
    "    count = 0\n",
    "    start_concat:str=\"\"\n",
    "    while queue:\n",
    "        \n",
    "        v = queue.popleft()\n",
    "        \n",
    "        start_concat += str(v)+\"->\"\n",
    "        count += 100\n",
    "        for u in g.get_neighbours(v):\n",
    "            if u not in visited:\n",
    "                queue.append(u)\n",
    "                visited.add(u)\n",
    "                \n",
    "    return (f\"{start_concat[:-2]}: {count}\")\n",
    "\n",
    "\n",
    "def dfs(g: Graph, start: Node):\n",
    "    visited: set[Node] = set()\n",
    "    stack = [start]\n",
    "    visited.add(start)\n",
    "    while stack:\n",
    "        v = stack.pop()\n",
    "        print(v, end=\" \")\n",
    "        for u in g.get_neighbours(v):\n",
    "            if u not in visited:\n",
    "                stack.append(u)\n",
    "                visited.add(u)"
   ]
  },
  {
   "cell_type": "code",
   "execution_count": 213,
   "metadata": {},
   "outputs": [
    {
     "name": "stdout",
     "output_type": "stream",
     "text": [
      "3 -> []\n",
      "1 -> ['2', '3', '4', '5']\n",
      "5 -> ['3']\n",
      "4 -> ['5']\n",
      "2 -> ['3', '1']\n"
     ]
    }
   ],
   "source": [
    "print(g)"
   ]
  },
  {
   "cell_type": "code",
   "execution_count": 214,
   "metadata": {},
   "outputs": [
    {
     "data": {
      "text/plain": [
       "'A: 100'"
      ]
     },
     "execution_count": 214,
     "metadata": {},
     "output_type": "execute_result"
    }
   ],
   "source": [
    "bfs(g, Node(\"A\"))"
   ]
  },
  {
   "cell_type": "code",
   "execution_count": 215,
   "metadata": {},
   "outputs": [
    {
     "name": "stdout",
     "output_type": "stream",
     "text": [
      "A "
     ]
    }
   ],
   "source": [
    "dfs(g, Node(\"A\"))"
   ]
  },
  {
   "cell_type": "code",
   "execution_count": 216,
   "metadata": {},
   "outputs": [],
   "source": [
    "g = Graph()\n",
    "g.add_edge(Node(\"1\"), Node(\"2\"))\n",
    "g.add_edge(Node(\"1\"), Node(\"3\"))\n",
    "g.add_edge(Node(\"1\"), Node(\"4\"))\n",
    "g.add_edge(Node(\"1\"), Node(\"5\"))\n",
    "g.add_edge(Node(\"2\"), Node(\"3\"))\n",
    "g.add_edge(Node(\"2\"), Node(\"1\"))\n",
    "g.add_vertex(Node(\"3\"))\n",
    "g.add_edge(Node(\"4\"), Node(\"5\"))\n",
    "g.add_edge(Node(\"5\"), Node(\"3\"))"
   ]
  },
  {
   "cell_type": "code",
   "execution_count": 217,
   "metadata": {},
   "outputs": [
    {
     "name": "stdout",
     "output_type": "stream",
     "text": [
      "3 -> []\n",
      "1 -> ['2', '3', '4', '5']\n",
      "5 -> ['3']\n",
      "4 -> ['5']\n",
      "2 -> ['3', '1']\n"
     ]
    }
   ],
   "source": [
    "print(g)"
   ]
  },
  {
   "cell_type": "code",
   "execution_count": 218,
   "metadata": {},
   "outputs": [
    {
     "data": {
      "text/plain": [
       "{Node(name='1'),\n",
       " Node(name='2'),\n",
       " Node(name='3'),\n",
       " Node(name='4'),\n",
       " Node(name='5')}"
      ]
     },
     "execution_count": 218,
     "metadata": {},
     "output_type": "execute_result"
    }
   ],
   "source": [
    "g.vertices"
   ]
  },
  {
   "cell_type": "code",
   "execution_count": 219,
   "metadata": {},
   "outputs": [
    {
     "name": "stdout",
     "output_type": "stream",
     "text": [
      "3: 100\n",
      "1->2->3->4->5: 500\n",
      "5->3: 200\n",
      "4->5->3: 300\n",
      "2->3->1->4->5: 500\n"
     ]
    }
   ],
   "source": [
    "#bfs(g, Node(\"2\"))\n",
    "for v in g.vertices:\n",
    "    print(bfs(g, v))"
   ]
  },
  {
   "cell_type": "code",
   "execution_count": 138,
   "metadata": {},
   "outputs": [
    {
     "name": "stdout",
     "output_type": "stream",
     "text": [
      "4 5 3 "
     ]
    }
   ],
   "source": [
    "dfs(g, Node(\"4\"))"
   ]
  },
  {
   "cell_type": "code",
   "execution_count": null,
   "metadata": {},
   "outputs": [],
   "source": []
  }
 ],
 "metadata": {
  "kernelspec": {
   "display_name": "dsa-hEQw758l-py3.12",
   "language": "python",
   "name": "python3"
  },
  "language_info": {
   "codemirror_mode": {
    "name": "ipython",
    "version": 3
   },
   "file_extension": ".py",
   "mimetype": "text/x-python",
   "name": "python",
   "nbconvert_exporter": "python",
   "pygments_lexer": "ipython3",
   "version": "3.12.3"
  }
 },
 "nbformat": 4,
 "nbformat_minor": 2
}
