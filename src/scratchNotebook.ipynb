{
 "cells": [
  {
   "cell_type": "code",
   "execution_count": 1,
   "metadata": {},
   "outputs": [],
   "source": [
    "from collections import defaultdict\n",
    "from dataclasses import dataclass"
   ]
  },
  {
   "cell_type": "code",
   "execution_count": 4,
   "metadata": {},
   "outputs": [],
   "source": [
    "@dataclass(frozen=True)\n",
    "class Node:\n",
    "    name: str\n",
    "\n",
    "    def __str__(self) -> str:\n",
    "        return self.name"
   ]
  },
  {
   "cell_type": "code",
   "execution_count": 5,
   "metadata": {},
   "outputs": [],
   "source": [
    "@dataclass\n",
    "class Graph:\n",
    "    vertices: set[Node]\n",
    "    adjacency_list: dict[Node, list[Node]]\n",
    "\n",
    "    def __init__(self):\n",
    "        self.vertices = set()\n",
    "        self.adjacency_list = defaultdict(list)\n",
    "\n",
    "    def add_vertex(self, v: Node) -> None:\n",
    "        if v not in self.vertices:\n",
    "            self.vertices.add(v)\n",
    "            self.adjacency_list[v] = []\n",
    "    \n",
    "    def get_neighbours(self, v: Node) -> list[Node]:\n",
    "        return self.adjacency_list[v] if v in self.adjacency_list else []\n",
    "\n",
    "    def add_edge(self, u: Node, v: Node) -> None:\n",
    "        if u not in self.vertices:\n",
    "            self.add_vertex(u)\n",
    "        if v not in self.vertices:\n",
    "            self.add_vertex(v)\n",
    "        self.adjacency_list[u].append(v)\n",
    "        # self.edges[v].append(u)\n",
    "\n",
    "    def __repr__(self):\n",
    "        return \"\\n\".join([f\"{v} -> {[str(x) for x in self.adjacency_list[v]]}\" for v in self.vertices])"
   ]
  },
  {
   "cell_type": "code",
   "execution_count": 15,
   "metadata": {},
   "outputs": [],
   "source": [
    "g = Graph()"
   ]
  },
  {
   "cell_type": "code",
   "execution_count": 16,
   "metadata": {},
   "outputs": [],
   "source": [
    "g.add_vertex(Node(\"A\"))\n",
    "g.add_edge(Node(\"A\"), Node(\"B\"))\n",
    "g.add_edge(Node(\"A\"), Node(\"C\"))\n",
    "g.add_edge(Node(\"B\"), Node(\"D\"))\n",
    "g.add_edge(Node(\"C\"), Node(\"F\"))\n",
    "g.add_edge(Node(\"B\"), Node(\"E\"))\n",
    "g.add_edge(Node(\"E\"), Node(\"F\"))"
   ]
  },
  {
   "cell_type": "code",
   "execution_count": 17,
   "metadata": {},
   "outputs": [
    {
     "data": {
      "text/plain": [
       "F -> []\n",
       "E -> ['F']\n",
       "B -> ['D', 'E']\n",
       "C -> ['F']\n",
       "A -> ['B', 'C']\n",
       "D -> []"
      ]
     },
     "execution_count": 17,
     "metadata": {},
     "output_type": "execute_result"
    }
   ],
   "source": [
    "g"
   ]
  },
  {
   "cell_type": "code",
   "execution_count": 18,
   "metadata": {},
   "outputs": [],
   "source": [
    "from collections import deque\n",
    "queue: deque[Node] = deque()\n",
    "\n",
    "\n",
    "def bfs(g: Graph, start: Node):\n",
    "    visited: set[Node] = set()\n",
    "    queue.append(start)\n",
    "    visited.add(start)\n",
    "    count = 0\n",
    "    path: list[Node]= []\n",
    "    while queue:\n",
    "        \n",
    "        v = queue.popleft()\n",
    "        \n",
    "        path.append(v)\n",
    "        count += 100\n",
    "        for u in g.get_neighbours(v):\n",
    "            if u not in visited:\n",
    "                queue.append(u)\n",
    "                visited.add(u)\n",
    "                \n",
    "    return (f\"{path}: {count}\")\n",
    "\n",
    "\n",
    "def dfs(g: Graph, start: Node):\n",
    "    visited: set[Node] = set()\n",
    "    stack = [start]\n",
    "    visited.add(start)\n",
    "    while stack:\n",
    "        v = stack.pop()\n",
    "        print(v, end=\" \")\n",
    "        for u in g.get_neighbours(v):\n",
    "            if u not in visited:\n",
    "                stack.append(u)\n",
    "                visited.add(u)"
   ]
  },
  {
   "cell_type": "code",
   "execution_count": 19,
   "metadata": {},
   "outputs": [
    {
     "name": "stdout",
     "output_type": "stream",
     "text": [
      "F -> []\n",
      "E -> ['F']\n",
      "B -> ['D', 'E']\n",
      "C -> ['F']\n",
      "A -> ['B', 'C']\n",
      "D -> []\n"
     ]
    }
   ],
   "source": [
    "print(g)"
   ]
  },
  {
   "cell_type": "code",
   "execution_count": 20,
   "metadata": {},
   "outputs": [
    {
     "data": {
      "text/plain": [
       "\"[Node(name='E'), Node(name='F')]: 200\""
      ]
     },
     "execution_count": 20,
     "metadata": {},
     "output_type": "execute_result"
    }
   ],
   "source": [
    "bfs(g, Node(\"E\"))"
   ]
  },
  {
   "cell_type": "code",
   "execution_count": 21,
   "metadata": {},
   "outputs": [
    {
     "name": "stdout",
     "output_type": "stream",
     "text": [
      "A C F B E D "
     ]
    }
   ],
   "source": [
    "dfs(g, Node(\"A\"))"
   ]
  },
  {
   "cell_type": "code",
   "execution_count": 22,
   "metadata": {},
   "outputs": [],
   "source": [
    "g = Graph()\n",
    "g.add_edge(Node(\"1\"), Node(\"2\"))\n",
    "g.add_edge(Node(\"1\"), Node(\"3\"))\n",
    "g.add_edge(Node(\"1\"), Node(\"4\"))\n",
    "g.add_edge(Node(\"1\"), Node(\"5\"))\n",
    "g.add_edge(Node(\"2\"), Node(\"3\"))\n",
    "g.add_edge(Node(\"2\"), Node(\"1\"))\n",
    "g.add_vertex(Node(\"3\"))\n",
    "g.add_edge(Node(\"4\"), Node(\"5\"))\n",
    "g.add_edge(Node(\"5\"), Node(\"3\"))"
   ]
  },
  {
   "cell_type": "code",
   "execution_count": 23,
   "metadata": {},
   "outputs": [
    {
     "name": "stdout",
     "output_type": "stream",
     "text": [
      "3 -> []\n",
      "1 -> ['2', '3', '4', '5']\n",
      "5 -> ['3']\n",
      "2 -> ['3', '1']\n",
      "4 -> ['5']\n"
     ]
    }
   ],
   "source": [
    "print(g)"
   ]
  },
  {
   "cell_type": "code",
   "execution_count": 24,
   "metadata": {},
   "outputs": [
    {
     "data": {
      "text/plain": [
       "{Node(name='1'),\n",
       " Node(name='2'),\n",
       " Node(name='3'),\n",
       " Node(name='4'),\n",
       " Node(name='5')}"
      ]
     },
     "execution_count": 24,
     "metadata": {},
     "output_type": "execute_result"
    }
   ],
   "source": [
    "g.vertices"
   ]
  },
  {
   "cell_type": "code",
   "execution_count": 25,
   "metadata": {},
   "outputs": [
    {
     "name": "stdout",
     "output_type": "stream",
     "text": [
      "[Node(name='3')]: 100\n",
      "[Node(name='1'), Node(name='2'), Node(name='3'), Node(name='4'), Node(name='5')]: 500\n",
      "[Node(name='5'), Node(name='3')]: 200\n",
      "[Node(name='2'), Node(name='3'), Node(name='1'), Node(name='4'), Node(name='5')]: 500\n",
      "[Node(name='4'), Node(name='5'), Node(name='3')]: 300\n"
     ]
    }
   ],
   "source": [
    "#bfs(g, Node(\"2\"))\n",
    "for v in g.vertices:\n",
    "    print(bfs(g, v))"
   ]
  },
  {
   "cell_type": "code",
   "execution_count": 26,
   "metadata": {},
   "outputs": [
    {
     "name": "stdout",
     "output_type": "stream",
     "text": [
      "4 5 3 "
     ]
    }
   ],
   "source": [
    "dfs(g, Node(\"4\"))"
   ]
  },
  {
   "cell_type": "code",
   "execution_count": 27,
   "metadata": {},
   "outputs": [
    {
     "data": {
      "text/plain": [
       "bright white bags -> []\n",
       "bright white bag -> []\n",
       "light red -> ['bright white bag', 'muted yellow bags']\n",
       "dark orange -> ['bright white bags', 'muted yellow bags']\n",
       "muted yellow bags -> []"
      ]
     },
     "execution_count": 27,
     "metadata": {},
     "output_type": "execute_result"
    }
   ],
   "source": [
    "def parse_input(input: str) -> dict[Node, list[Node]]:\n",
    "    graph = Graph()\n",
    "    for line in input.splitlines():\n",
    "        parent, children = line[:-1].split(\" contain \")\n",
    "        parent = Node(\" \".join(parent.split()[:2]))\n",
    "        if children == \"no other bags.\":\n",
    "            continue\n",
    "        for child in children.split(\", \"):\n",
    "            count, *name = child.split()\n",
    "            graph.add_edge(parent, Node(\" \".join(name)))\n",
    "    return graph\n",
    "\n",
    "parse_input(\"light red bags contain 1 bright white bag, 2 muted yellow bags.\\ndark orange bags contain 3 bright white bags, 4 muted yellow bags.\\n\")"
   ]
  },
  {
   "cell_type": "code",
   "execution_count": 91,
   "metadata": {},
   "outputs": [],
   "source": [
    "# from functools import lru_cache\n",
    "# @lru_cache(maxsize=None)\n",
    "# def count_ways(n: int, k: int) -> int:\n",
    "#     if n == 0:\n",
    "#         return 0\n",
    "#     if k == 0 or k == n:\n",
    "#         return 1\n",
    "#     return count_ways(n-1, k - 1) + count_ways(n-1, k)\n",
    "\n",
    "from functools import lru_cache\n",
    "\n",
    "@lru_cache(maxsize=None)\n",
    "def count_ways(n: int, k: int) -> int:\n",
    "    \"\"\"\n",
    "    Calculate the number of ways to choose k items from n items.\n",
    "\n",
    "    Args:\n",
    "    n (int): Total number of items.\n",
    "    k (int): Number of items to choose.\n",
    "\n",
    "    Returns:\n",
    "    int: Number of ways to choose k items from n items.\n",
    "    \"\"\"\n",
    "    if n < 0 or k < 0:\n",
    "        raise ValueError(\"n and k must be non-negative integers\")\n",
    "    if k > n:\n",
    "        return 0\n",
    "    if k == 0 or k == n:\n",
    "        return 1\n",
    "    return count_ways(n-1, k-1) + count_ways(n-1, k)"
   ]
  },
  {
   "cell_type": "code",
   "execution_count": 92,
   "metadata": {},
   "outputs": [
    {
     "data": {
      "text/plain": [
       "1"
      ]
     },
     "execution_count": 92,
     "metadata": {},
     "output_type": "execute_result"
    }
   ],
   "source": [
    "count_ways(0, 0)"
   ]
  },
  {
   "cell_type": "code",
   "execution_count": 93,
   "metadata": {},
   "outputs": [
    {
     "data": {
      "text/plain": [
       "55"
      ]
     },
     "execution_count": 93,
     "metadata": {},
     "output_type": "execute_result"
    }
   ],
   "source": [
    "count_ways(11,2)\n"
   ]
  },
  {
   "cell_type": "code",
   "execution_count": 94,
   "metadata": {},
   "outputs": [
    {
     "data": {
      "text/plain": [
       "490545"
      ]
     },
     "execution_count": 94,
     "metadata": {},
     "output_type": "execute_result"
    }
   ],
   "source": [
    "count_ways(991,2)"
   ]
  }
 ],
 "metadata": {
  "kernelspec": {
   "display_name": "dsa-hEQw758l-py3.12",
   "language": "python",
   "name": "python3"
  },
  "language_info": {
   "codemirror_mode": {
    "name": "ipython",
    "version": 3
   },
   "file_extension": ".py",
   "mimetype": "text/x-python",
   "name": "python",
   "nbconvert_exporter": "python",
   "pygments_lexer": "ipython3",
   "version": "3.12.5"
  }
 },
 "nbformat": 4,
 "nbformat_minor": 2
}
