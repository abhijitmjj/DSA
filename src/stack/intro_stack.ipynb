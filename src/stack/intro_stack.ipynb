{
 "cells": [
  {
   "cell_type": "code",
   "execution_count": 1,
   "metadata": {},
   "outputs": [],
   "source": [
    "from dataclasses import dataclass, field\n",
    "from returns.result import Result, safe, Success, Failure"
   ]
  },
  {
   "cell_type": "code",
   "execution_count": 3,
   "metadata": {},
   "outputs": [
    {
     "data": {
      "text/plain": [
       "True"
      ]
     },
     "execution_count": 3,
     "metadata": {},
     "output_type": "execute_result"
    }
   ],
   "source": [
    "def decimalToBinary(num: int) -> str:\n",
    "    \"\"\"Convert a given number in Decimal to Binary using only stack\n",
    "    The idea is to use LIFO based data structure - stack and utilize the LSD to MSD ordering\n",
    "    The popping order LIFO naturally yields the number in binary\n",
    "    \"\"\"\n",
    "    stack: list[int] = []\n",
    "    while num > 0:\n",
    "        stack.append(num % 2)\n",
    "        num //= 2\n",
    "    res = ''\n",
    "    while stack:\n",
    "        res += str(stack.pop())\n",
    "    return '0b'+res\n",
    "\n",
    "decimalToBinary(7) == bin(7)"
   ]
  },
  {
   "cell_type": "code",
   "execution_count": 2,
   "metadata": {},
   "outputs": [
    {
     "name": "stdout",
     "output_type": "stream",
     "text": [
      "[5, 10, 10, -1, -1]\n"
     ]
    }
   ],
   "source": [
    "# Next Greater Element\n",
    "# Invariant: stack is always in decreasing order of elements. The top of the stack is the smallest element.\n",
    "\n",
    "\n",
    "def next_greater_element(arr: list[int]) -> list[int]:\n",
    "    \"\"\"\n",
    "    For each element in the array, find the next greater element to its right. If no greater element exists, store -1.\t\n",
    "    •\tInvariant: The condition that the stack maintains a strictly decreasing order (monotonic stack) is the invariant.\n",
    "\t•\tMonotonic Stack: In this problem, the stack is a monotonic decreasing stack, meaning it stores elements in decreasing order from the bottom to the top.\n",
    "    \"\"\"\n",
    "    stack1: list[int] = []\n",
    "    stack2: list[int] = []\n",
    "\n",
    "    for i in range(len(arr) - 1, -1, -1):\n",
    "        # Pop elements from stack1 that are less than or equal to arr[i]\n",
    "        while stack1 and stack1[-1] <= arr[i]:\n",
    "            stack1.pop()\n",
    "        \n",
    "        # If stack1 is empty, no greater element exists\n",
    "        if not stack1:\n",
    "            stack2.append(-1)\n",
    "        else:\n",
    "            # The top of stack1 is the next greater element\n",
    "            stack2.append(stack1[-1])\n",
    "        \n",
    "        # Push the current element to stack1\n",
    "        stack1.append(arr[i])\n",
    "    \n",
    "    # Reverse stack2 to get the results in correct order\n",
    "    return stack2[::-1]\n",
    "\n",
    "# Example usage\n",
    "arr = [4, 5, 2, 10, 8]\n",
    "print(next_greater_element(arr))  # Output: [5, 10, 10, -1, -1]"
   ]
  },
  {
   "cell_type": "code",
   "execution_count": 5,
   "metadata": {},
   "outputs": [
    {
     "data": {
      "text/plain": [
       "[1, 2, 3, 4, 5, 6, 10, 12]"
      ]
     },
     "execution_count": 5,
     "metadata": {},
     "output_type": "execute_result"
    }
   ],
   "source": [
    "def sortStack(nums: list[int]):\n",
    "    \"\"\"Sort the elements in non-increasing order using only stacks.\n",
    "    Invariant: strictly increasing order (bottom to top)\n",
    "    If the current element in the reservoir is smaller, keep popping elements\n",
    "    from stack and adding to reservoir and then push the current on our stack => strict increasing order\n",
    "    \"\"\"\n",
    "    reservoir: list[int] = [x for x in nums]\n",
    "    stack: list[int] = []\n",
    "\n",
    "    while reservoir:\n",
    "        temp = reservoir.pop()\n",
    "\n",
    "        while stack and stack[-1] > temp:\n",
    "            reservoir.append(stack.pop())\n",
    "        stack.append(temp)\n",
    "    return stack\n",
    "\n",
    "sortStack([20, 10, -5, -1])\n",
    "sortStack([4, 3, 2, 10, 12, 1, 5, 6])"
   ]
  },
  {
   "cell_type": "code",
   "execution_count": 3,
   "metadata": {},
   "outputs": [
    {
     "data": {
      "text/plain": [
       "1"
      ]
     },
     "execution_count": 3,
     "metadata": {},
     "output_type": "execute_result"
    }
   ],
   "source": [
    "'a'.isalnum()\n",
    "'1'.isdigit()\n",
    "int('1')"
   ]
  },
  {
   "cell_type": "code",
   "execution_count": 4,
   "metadata": {},
   "outputs": [],
   "source": [
    "@dataclass\n",
    "class Stack:\n",
    "    stack: list[int] = field(default_factory=list)\n",
    "\n",
    "    def push(self, elem: int) -> None:\n",
    "        self.stack.append(elem)\n",
    "   \n",
    "    def pop(self) -> Result[int, Exception]:\n",
    "        if len(self.stack) > 1:\n",
    "         return Success(self.stack.pop())\n",
    "        return Failure(Exception(\"Stack is empty\"))\n",
    "    \n",
    "    @safe\n",
    "    def peek(self) -> int:\n",
    "        return self.stack[-1]\n",
    "    def is_empty(self) -> bool:\n",
    "        return len(self.stack) == 0\n"
   ]
  },
  {
   "cell_type": "code",
   "execution_count": 5,
   "metadata": {},
   "outputs": [],
   "source": [
    "stack=Stack()\n",
    "stack.push(1)\n",
    "stack.push(11)\n",
    "stack.push(11)"
   ]
  },
  {
   "cell_type": "code",
   "execution_count": 6,
   "metadata": {},
   "outputs": [
    {
     "data": {
      "text/plain": [
       "<Success: 11>"
      ]
     },
     "execution_count": 6,
     "metadata": {},
     "output_type": "execute_result"
    }
   ],
   "source": [
    "stack.peek()"
   ]
  },
  {
   "cell_type": "code",
   "execution_count": 7,
   "metadata": {},
   "outputs": [
    {
     "data": {
      "text/plain": [
       "<Success: 11>"
      ]
     },
     "execution_count": 7,
     "metadata": {},
     "output_type": "execute_result"
    }
   ],
   "source": [
    "# What to do with the result?\n",
    "# 1. Check if the result is a success or a failure\n",
    "# 2. Handle the failure case\n",
    "\n",
    "result = stack.pop()\n",
    "result.alt(lambda x: 10000)\n"
   ]
  },
  {
   "cell_type": "code",
   "execution_count": 8,
   "metadata": {},
   "outputs": [
    {
     "data": {
      "text/plain": [
       "[12]"
      ]
     },
     "execution_count": 8,
     "metadata": {},
     "output_type": "execute_result"
    }
   ],
   "source": [
    "ans = []\n",
    "ans.append(12)\n",
    "ans"
   ]
  },
  {
   "cell_type": "code",
   "execution_count": null,
   "metadata": {},
   "outputs": [],
   "source": []
  }
 ],
 "metadata": {
  "kernelspec": {
   "display_name": "dsa-Zy08HSLY-py3.12",
   "language": "python",
   "name": "python3"
  },
  "language_info": {
   "codemirror_mode": {
    "name": "ipython",
    "version": 3
   },
   "file_extension": ".py",
   "mimetype": "text/x-python",
   "name": "python",
   "nbconvert_exporter": "python",
   "pygments_lexer": "ipython3",
   "version": "3.12.5"
  }
 },
 "nbformat": 4,
 "nbformat_minor": 2
}
